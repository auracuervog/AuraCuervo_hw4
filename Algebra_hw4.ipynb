{
 "metadata": {
  "name": "Algebra_hw4-Copy0"
 },
 "nbformat": 3,
 "nbformat_minor": 0,
 "worksheets": [
  {
   "cells": [
    {
     "cell_type": "heading",
     "level": 1,
     "metadata": {},
     "source": "Tarea 4 - M\u00e9todos computacionales"
    },
    {
     "cell_type": "code",
     "collapsed": false,
     "input": "%pylab inline\nimport os\nimport shutil",
     "language": "python",
     "metadata": {},
     "outputs": [
      {
       "output_type": "stream",
       "stream": "stdout",
       "text": "Populating the interactive namespace from numpy and matplotlib\n"
      }
     ],
     "prompt_number": 1
    },
    {
     "cell_type": "code",
     "collapsed": false,
     "input": "n = 3 #columns\nm = 38 #rows",
     "language": "python",
     "metadata": {},
     "outputs": [],
     "prompt_number": 2
    },
    {
     "cell_type": "code",
     "collapsed": false,
     "input": "x = array([[2, -1, -2],\n     [-4, 6, 3], \n     [-4, -2, 8]])\ny = array([[1, 2, 3],\n     [8, 4, 6],\n     [0, 1, 4]])\nprint x,y",
     "language": "python",
     "metadata": {},
     "outputs": [
      {
       "output_type": "stream",
       "stream": "stdout",
       "text": "[[ 2 -1 -2]\n [-4  6  3]\n [-4 -2  8]] [[1 2 3]\n [8 4 6]\n [0 1 4]]\n"
      }
     ],
     "prompt_number": 3
    },
    {
     "cell_type": "heading",
     "level": 4,
     "metadata": {},
     "source": "El objetivo de este ejercicio es hallar los valores de la posici\u00f3n final, la velocidad final y la gravedad empleando el m\u00e9todo de m\u00ednimos cuadrados.\n\nA continuaci\u00f3n creo la funci\u00f3n que multiplica matrices"
    },
    {
     "cell_type": "code",
     "collapsed": false,
     "input": "def matrix_multiplication(matrix_a, matrix_b):\n    A = [[0 for x in range(n)] for x in range(n)]\n    \n    #Itera en las filas de la primera matriz\n    for i in range (len(matrix_a)):\n        #Itera en las columnas de la segunda matriz\n        for j in range(len(matrix_b[i])):\n            #Itera en las filas de la segunda matriz\n            for k in range(len(matrix_b)):\n                A[i][j] += matrix_a[i][k]*matrix_b[k][j]\n    return A",
     "language": "python",
     "metadata": {},
     "outputs": [],
     "prompt_number": 4
    },
    {
     "cell_type": "code",
     "collapsed": false,
     "input": "c = matrix_multiplication(x,y)\nprint c",
     "language": "python",
     "metadata": {},
     "outputs": [
      {
       "output_type": "stream",
       "stream": "stdout",
       "text": "[[-6, -2, -8], [44, 19, 36], [-20, -8, 8]]\n"
      }
     ],
     "prompt_number": 5
    },
    {
     "cell_type": "heading",
     "level": 4,
     "metadata": {},
     "source": "Funci\u00f3n que multiplica una matriz por un vector:"
    },
    {
     "cell_type": "code",
     "collapsed": false,
     "input": "def mv_multiplication(matrix_a, vector_b):\n    x = [[0 for x in range(1)] for x in range(n)]\n    \n    #Itera en las filas de la primera matriz\n    for i in range (len(matrix_a)):\n        #Itera en las filas del vector\n        for j in range(len(vector_b)):\n            x[i] += matrix_a[i][j]*vector_b[j]\n    return x",
     "language": "python",
     "metadata": {},
     "outputs": [],
     "prompt_number": 7
    },
    {
     "cell_type": "heading",
     "level": 4,
     "metadata": {},
     "source": "Funci\u00f3n que transpone matrices:"
    },
    {
     "cell_type": "code",
     "collapsed": false,
     "input": "def matrix_transpose(matrix_G):\n    transpose = [[0 for x in range(len(matrix_G))] for x in range(len(matrix_G[0]))]\n    #Itera las filas \n    for i in range (len(matrix_G)):\n        #Itera las columnas\n        for j in range (len(matrix_G[0])):\n            transpose [j][i]= matrix_G[i][j]\n    return transpose",
     "language": "python",
     "metadata": {},
     "outputs": [],
     "prompt_number": 8
    },
    {
     "cell_type": "code",
     "collapsed": false,
     "input": "d = matrix_transpose(x)\nprint d",
     "language": "python",
     "metadata": {},
     "outputs": [
      {
       "output_type": "stream",
       "stream": "stdout",
       "text": "[[2, -4, -4], [-1, 6, -2], [-2, 3, 8]]\n"
      }
     ],
     "prompt_number": 9
    },
    {
     "cell_type": "heading",
     "level": 4,
     "metadata": {},
     "source": "Funci\u00f3n que resuelve sistemas de ecuaciones por Gauss-Jordan:"
    },
    {
     "cell_type": "code",
     "collapsed": false,
     "input": "def solving(a, b):\n    x = [0 for x in range(n)]\n    \n    #Reduce la matriz a, itera las filas \n    for i in range(n):\n        divisor = a[i][i]\n        #Itera las columnas\n        for j in range(n):\n            a[i][j] = a[i][j]/divisor\n            #Itera las filas\n            for k in range(n):\n                rowfactor = a[k][i]\n                #Itera las columnas\n                for l in range(n):\n                    a[k][l] = a[k][l]-(a[i][l]*rowfactor)\n     \n    #Halla la soluci\u00f3n del sistema\n    x = mv_multiplication(a,b)\n    \n    return x\n    ",
     "language": "python",
     "metadata": {},
     "outputs": [],
     "prompt_number": 10
    },
    {
     "cell_type": "code",
     "collapsed": false,
     "input": "e = [1,2,3]\nf = matrix_transpose(x)\nh = solving(f,e)\nprint h",
     "language": "python",
     "metadata": {},
     "outputs": [
      {
       "output_type": "stream",
       "stream": "stdout",
       "text": "[array([0]), array([6224482284422005808]), array([-1205006819859428094])]\n"
      },
      {
       "output_type": "stream",
       "stream": "stderr",
       "text": "-c:15: RuntimeWarning: overflow encountered in long_scalars\n-c:8: RuntimeWarning: overflow encountered in long_scalars\n"
      }
     ],
     "prompt_number": 11
    },
    {
     "cell_type": "heading",
     "level": 4,
     "metadata": {},
     "source": "A partir de una matriz 3x3, la siguiente funci\u00f3n genera una matriz triangular inferior y una triangular superior tal que:\n\nA = L*U"
    },
    {
     "cell_type": "code",
     "collapsed": false,
     "input": "def LUdecomposition(A):\n    L = [[0 for x in range(n)] for x in range(n)]\n    U = [[0 for x in range(n)] for x in range(n)]\n    \n    for i in range(n):\n        L[i][i] = 1 #Llena la diagonal con 1\n        for j in range(i+1,n):\n            L[j][i] = A[j][i]/A[i][i] #Crea la triangular inferior \n            for k in range(i+1,n):\n                A[j][k] = A[j][k] - (L[j][i]*A[i][k])\n        for l in range (i,n):\n            U[i][l] = A[i][l] #Crea la triangular superior\n            \n    return L, U",
     "language": "python",
     "metadata": {},
     "outputs": [],
     "prompt_number": 12
    },
    {
     "cell_type": "heading",
     "level": 4,
     "metadata": {},
     "source": "La siguiente funci\u00f3n genera los parametros del modelo, en este caso, la f\u00edsica detr\u00e1s del problema se reduce a la ecuaci\u00f3n: y = yo + Vot + (1/2)g*t^2\nG corresponde a una matriz 38x3, donde cada fila corresponde a: 1, t,(1/2)t^2. Debido a las dimensiones de esta matriz, es necesario hallar la transpuesta y multiplicarlas para obtener una matriz 3x3 que se pueda convertir a LU. Adicionalmente, contamos con el vector b que contiene los datos de posici\u00f3n. "
    },
    {
     "cell_type": "code",
     "collapsed": false,
     "input": "\ndef creatingdata(file):\n    \n    yposition = []\n    t = []\n            \n    #Loop para guardar el tiempo y la posici\u00f3n en y\n    for line in file:\n        columns = line.split(\" \") #Separa por columnas cada archivo\n        for k in range (len(columns)):\n            if (k == 1):\n                yposition.append(float(columns[1])) #Guarda la segunda columna en una lista \n            elif (k == 0):\n                t.append(columns[0]) #Guarda la primera columna\n            \n    G = [[0 for x in range(n)] for x in range(m)]\n    #Loop para llenar la matriz G, itera las filas\n    for i in range (m):\n        \n        G[i][0] = 1\n        G[i][1] = float(t[i])\n        G[i][2] = (0.5*((float(t[i]))**2))\n             \n    G_t = matrix_transpose(G)\n    A = matrix_multiplication(G_t,G)\n   \n    #Vector b, contiene las posiciones en y\n    b = [0 for x in range(m)]\n    #Loop para llenar el vector b \n    for l in range (m):\n        b[l] = yposition[l]\n    #Nuevo vector b\n    nb = mv_multiplication(G_t,b)\n    \n    return (A, nb)",
     "language": "python",
     "metadata": {},
     "outputs": [],
     "prompt_number": 33
    },
    {
     "cell_type": "code",
     "collapsed": false,
     "input": "lfiles = os.listdir('GoodFiles/')\nllength = len(lfiles)\n\nfor i in range (llength):\n    fname = lfiles[i] #Guarda el nombre del archivo de la lista\n    file = open('GoodFiles/'+fname, 'r')\n    \n    A, nb = creatingdata(file)\n    L, U = LUdecomposition(A)\n    x = [0 for x in range(n)] \n   \n    ",
     "language": "python",
     "metadata": {},
     "outputs": [
      {
       "ename": "TypeError",
       "evalue": "'float' object is not iterable",
       "output_type": "pyerr",
       "traceback": [
        "\u001b[0;31m---------------------------------------------------------------------------\u001b[0m\n\u001b[0;31mTypeError\u001b[0m                                 Traceback (most recent call last)",
        "\u001b[0;32m<ipython-input-34-587161b79d1a>\u001b[0m in \u001b[0;36m<module>\u001b[0;34m()\u001b[0m\n\u001b[1;32m      6\u001b[0m     \u001b[0mfile\u001b[0m \u001b[0;34m=\u001b[0m \u001b[0mopen\u001b[0m\u001b[0;34m(\u001b[0m\u001b[0;34m'GoodFiles/'\u001b[0m\u001b[0;34m+\u001b[0m\u001b[0mfname\u001b[0m\u001b[0;34m,\u001b[0m \u001b[0;34m'r'\u001b[0m\u001b[0;34m)\u001b[0m\u001b[0;34m\u001b[0m\u001b[0m\n\u001b[1;32m      7\u001b[0m \u001b[0;34m\u001b[0m\u001b[0m\n\u001b[0;32m----> 8\u001b[0;31m     \u001b[0mA\u001b[0m\u001b[0;34m,\u001b[0m \u001b[0mnb\u001b[0m \u001b[0;34m=\u001b[0m \u001b[0mcreatingdata\u001b[0m\u001b[0;34m(\u001b[0m\u001b[0mfile\u001b[0m\u001b[0;34m)\u001b[0m\u001b[0;34m\u001b[0m\u001b[0m\n\u001b[0m\u001b[1;32m      9\u001b[0m     \u001b[0mL\u001b[0m\u001b[0;34m,\u001b[0m \u001b[0mU\u001b[0m \u001b[0;34m=\u001b[0m \u001b[0mLUdecomposition\u001b[0m\u001b[0;34m(\u001b[0m\u001b[0mA\u001b[0m\u001b[0;34m)\u001b[0m\u001b[0;34m\u001b[0m\u001b[0m\n\u001b[1;32m     10\u001b[0m     \u001b[0mx\u001b[0m \u001b[0;34m=\u001b[0m \u001b[0;34m[\u001b[0m\u001b[0;36m0\u001b[0m \u001b[0;32mfor\u001b[0m \u001b[0mx\u001b[0m \u001b[0;32min\u001b[0m \u001b[0mrange\u001b[0m\u001b[0;34m(\u001b[0m\u001b[0mn\u001b[0m\u001b[0;34m)\u001b[0m\u001b[0;34m]\u001b[0m\u001b[0;34m\u001b[0m\u001b[0m\n",
        "\u001b[0;32m<ipython-input-33-0fb9d163655b>\u001b[0m in \u001b[0;36mcreatingdata\u001b[0;34m(file)\u001b[0m\n\u001b[1;32m     31\u001b[0m         \u001b[0mb\u001b[0m\u001b[0;34m[\u001b[0m\u001b[0ml\u001b[0m\u001b[0;34m]\u001b[0m \u001b[0;34m=\u001b[0m \u001b[0myposition\u001b[0m\u001b[0;34m[\u001b[0m\u001b[0ml\u001b[0m\u001b[0;34m]\u001b[0m\u001b[0;34m\u001b[0m\u001b[0m\n\u001b[1;32m     32\u001b[0m     \u001b[0;31m#Nuevo vector b\u001b[0m\u001b[0;34m\u001b[0m\u001b[0;34m\u001b[0m\u001b[0m\n\u001b[0;32m---> 33\u001b[0;31m     \u001b[0mnb\u001b[0m \u001b[0;34m=\u001b[0m \u001b[0mmv_multiplication\u001b[0m\u001b[0;34m(\u001b[0m\u001b[0mG_t\u001b[0m\u001b[0;34m,\u001b[0m\u001b[0mb\u001b[0m\u001b[0;34m)\u001b[0m\u001b[0;34m\u001b[0m\u001b[0m\n\u001b[0m\u001b[1;32m     34\u001b[0m \u001b[0;34m\u001b[0m\u001b[0m\n\u001b[1;32m     35\u001b[0m     \u001b[0;32mreturn\u001b[0m \u001b[0;34m(\u001b[0m\u001b[0mA\u001b[0m\u001b[0;34m,\u001b[0m \u001b[0mnb\u001b[0m\u001b[0;34m)\u001b[0m\u001b[0;34m\u001b[0m\u001b[0m\n",
        "\u001b[0;32m<ipython-input-7-f5e825adc268>\u001b[0m in \u001b[0;36mmv_multiplication\u001b[0;34m(matrix_a, vector_b)\u001b[0m\n\u001b[1;32m      6\u001b[0m         \u001b[0;31m#Itera en las filas del vector\u001b[0m\u001b[0;34m\u001b[0m\u001b[0;34m\u001b[0m\u001b[0m\n\u001b[1;32m      7\u001b[0m         \u001b[0;32mfor\u001b[0m \u001b[0mj\u001b[0m \u001b[0;32min\u001b[0m \u001b[0mrange\u001b[0m\u001b[0;34m(\u001b[0m\u001b[0mlen\u001b[0m\u001b[0;34m(\u001b[0m\u001b[0mvector_b\u001b[0m\u001b[0;34m)\u001b[0m\u001b[0;34m)\u001b[0m\u001b[0;34m:\u001b[0m\u001b[0;34m\u001b[0m\u001b[0m\n\u001b[0;32m----> 8\u001b[0;31m             \u001b[0mx\u001b[0m\u001b[0;34m[\u001b[0m\u001b[0mi\u001b[0m\u001b[0;34m]\u001b[0m \u001b[0;34m+=\u001b[0m \u001b[0mmatrix_a\u001b[0m\u001b[0;34m[\u001b[0m\u001b[0mi\u001b[0m\u001b[0;34m]\u001b[0m\u001b[0;34m[\u001b[0m\u001b[0mj\u001b[0m\u001b[0;34m]\u001b[0m\u001b[0;34m*\u001b[0m\u001b[0mvector_b\u001b[0m\u001b[0;34m[\u001b[0m\u001b[0mj\u001b[0m\u001b[0;34m]\u001b[0m\u001b[0;34m\u001b[0m\u001b[0m\n\u001b[0m\u001b[1;32m      9\u001b[0m     \u001b[0;32mreturn\u001b[0m \u001b[0mx\u001b[0m\u001b[0;34m\u001b[0m\u001b[0m\n",
        "\u001b[0;31mTypeError\u001b[0m: 'float' object is not iterable"
       ]
      }
     ],
     "prompt_number": 34
    },
    {
     "cell_type": "code",
     "collapsed": false,
     "input": "",
     "language": "python",
     "metadata": {},
     "outputs": [],
     "prompt_number": 120
    },
    {
     "cell_type": "code",
     "collapsed": false,
     "input": "",
     "language": "python",
     "metadata": {},
     "outputs": []
    }
   ],
   "metadata": {}
  }
 ]
}