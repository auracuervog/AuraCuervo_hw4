{
 "metadata": {
  "name": "DeletingNoiseFiles-Copy0"
 },
 "nbformat": 3,
 "nbformat_minor": 0,
 "worksheets": [
  {
   "cells": [
    {
     "cell_type": "heading",
     "level": 1,
     "metadata": {},
     "source": "Tarea 4 - M\u00e9todos computacionales"
    },
    {
     "cell_type": "code",
     "collapsed": false,
     "input": "%pylab inline\nimport os\nimport shutil",
     "language": "python",
     "metadata": {},
     "outputs": [
      {
       "output_type": "stream",
       "stream": "stdout",
       "text": "Populating the interactive namespace from numpy and matplotlib\n"
      }
     ],
     "prompt_number": 22
    },
    {
     "cell_type": "heading",
     "level": 2,
     "metadata": {},
     "source": "Eliminando los archivos con ruido"
    },
    {
     "cell_type": "heading",
     "level": 4,
     "metadata": {},
     "source": "Existen algunos archivos cuya posici\u00f3n en y no corresponde a una parabola, es decir, son mediciones incorrectas. Por lo tanto, es necesario eliminarlos para ejecutar una aproximaci\u00f3n adecuada."
    },
    {
     "cell_type": "code",
     "collapsed": false,
     "input": "#Guarda la lista de archivos de una carpeta\nlfiles = os.listdir('Brahe-3141-f')\nllength = len(lfiles)",
     "language": "python",
     "metadata": {},
     "outputs": [],
     "prompt_number": 23
    },
    {
     "cell_type": "code",
     "collapsed": false,
     "input": "def noisefile(yposition):\n    damage = 1\n    size = len(yposition)\n    maximum = max(yposition) #Guarda el mayor n\u00famero en la lista de posici\u00f3n\n    #Obtiene en que posicion de la lista esta el maximo\n    for k in range (size):\n        if (yposition[k]==maximum):\n            max_pos = k\n              \n    #Comprueba que los datos de la lista correspondan a una parabola \n    for j in range (size-1):\n        point = yposition[j]\n        npoint = yposition[j+1]\n        \n        if (j<max_pos) & (point>npoint):\n            damage = 0 #Tiene ruido\n            return damage\n        else:\n            damage = 1\n            \n    for i in range (size-1):\n        point = yposition[i]\n        npoint = yposition[i+1]\n        \n        if (i>=max_pos) & (npoint>point):\n            damage = 0\n            return damage\n        else:\n            damage = 1\n            \n    return damage",
     "language": "python",
     "metadata": {},
     "outputs": [],
     "prompt_number": 28
    },
    {
     "cell_type": "code",
     "collapsed": false,
     "input": "for i in range (llength):\n    fname = lfiles[i] #Guarda el nombre del archivo de la lista\n    file = open('Brahe-3141-f/'+fname, 'r')\n        \n    yposition = []\n            \n    for line in file:\n        parts = line.split(\" \") #Separa por columnas cada archivo\n        if (len(parts) == 2):\n            yposition.append(parts[1]) #Guarda la segunda columna en una lista   \n    \n    if (noisefile(yposition)==0):\n        shutil.move('Brahe-3141-f/'+fname, 'NoiseFiles/'+fname)       ",
     "language": "python",
     "metadata": {},
     "outputs": [],
     "prompt_number": 29
    },
    {
     "cell_type": "code",
     "collapsed": false,
     "input": "z",
     "language": "python",
     "metadata": {},
     "outputs": [],
     "prompt_number": 20
    },
    {
     "cell_type": "code",
     "collapsed": false,
     "input": "",
     "language": "python",
     "metadata": {},
     "outputs": []
    }
   ],
   "metadata": {}
  }
 ]
}