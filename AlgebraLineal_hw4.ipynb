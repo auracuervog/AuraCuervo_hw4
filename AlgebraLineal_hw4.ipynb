{
 "metadata": {
  "name": "Algebra_hw4"
 },
 "nbformat": 3,
 "nbformat_minor": 0,
 "worksheets": [
  {
   "cells": [
    {
     "cell_type": "heading",
     "level": 1,
     "metadata": {},
     "source": "Tarea 4 - M\u00e9todos computacionales"
    },
    {
     "cell_type": "heading",
     "level": 4,
     "metadata": {},
     "source": "Para que este programa funcione adecuadamente se debe ejecutar el otro archivo que se encuentra en el repositorio, llamado \"DeletingNoiseFiles\""
    },
    {
     "cell_type": "code",
     "collapsed": false,
     "input": "%pylab inline\nimport os\nimport shutil",
     "language": "python",
     "metadata": {},
     "outputs": [
      {
       "output_type": "stream",
       "stream": "stdout",
       "text": "Populating the interactive namespace from numpy and matplotlib\n"
      },
      {
       "output_type": "stream",
       "stream": "stderr",
       "text": "WARNING: pylab import has clobbered these variables: ['f', 'e']\n`%pylab --no-import-all` prevents importing * from pylab and numpy\n"
      }
     ],
     "prompt_number": 38
    },
    {
     "cell_type": "code",
     "collapsed": false,
     "input": "n = 3 #columns\nm = 38 #rows",
     "language": "python",
     "metadata": {},
     "outputs": [],
     "prompt_number": 39
    },
    {
     "cell_type": "heading",
     "level": 4,
     "metadata": {},
     "source": "El objetivo de este ejercicio es hallar los valores de la posici\u00f3n final, la velocidad final y la gravedad empleando el m\u00e9todo de m\u00ednimos cuadrados.\n\nA continuaci\u00f3n creo la funci\u00f3n que multiplica matrices"
    },
    {
     "cell_type": "code",
     "collapsed": false,
     "input": "def matrix_multiplication(matrix_a, matrix_b):\n    A = [[0 for x in range(n)] for x in range(n)]\n    \n    #Itera en las filas de la primera matriz\n    for i in range (len(matrix_a)):\n        #Itera en las columnas de la segunda matriz\n        for j in range(len(matrix_b[i])):\n            #Itera en las filas de la segunda matriz\n            for k in range(len(matrix_b)):\n                A[i][j] += matrix_a[i][k]*matrix_b[k][j]\n    return A",
     "language": "python",
     "metadata": {},
     "outputs": [],
     "prompt_number": 40
    },
    {
     "cell_type": "heading",
     "level": 4,
     "metadata": {},
     "source": "Funci\u00f3n que multiplica una matriz por un vector:"
    },
    {
     "cell_type": "code",
     "collapsed": false,
     "input": "def mv_multiplication(matrix_a, vector_b):\n    x = [[0 for x in range(1)] for x in range(n)]\n    \n    #Itera en las filas de la primera matriz\n    for i in range (len(matrix_a)):\n        #Itera en las filas del vector\n        for j in range(len(vector_b)):\n            x[i] += matrix_a[i][j]*vector_b[j]\n    return x",
     "language": "python",
     "metadata": {},
     "outputs": [],
     "prompt_number": 41
    },
    {
     "cell_type": "heading",
     "level": 4,
     "metadata": {},
     "source": "Funci\u00f3n que transpone matrices:"
    },
    {
     "cell_type": "code",
     "collapsed": false,
     "input": "def matrix_transpose(matrix_G):\n    transpose = [[0 for x in range(len(matrix_G))] for x in range(len(matrix_G[0]))]\n    #Itera las filas \n    for i in range (len(matrix_G)):\n        #Itera las columnas\n        for j in range (len(matrix_G[0])):\n            transpose [j][i]= matrix_G[i][j]\n    return transpose",
     "language": "python",
     "metadata": {},
     "outputs": [],
     "prompt_number": 42
    },
    {
     "cell_type": "heading",
     "level": 4,
     "metadata": {},
     "source": "Funci\u00f3n que resuelve sistemas de ecuaciones por Gauss-Jordan:"
    },
    {
     "cell_type": "code",
     "collapsed": false,
     "input": "def solving(a, b):\n    x = [0 for x in range(n)]\n    \n    #Reduce la matriz a, itera las filas \n    for i in range(n):\n        divisor = a[i][i]\n        #Itera las columnas\n        for j in range(n):\n            a[i][j] = a[i][j]/divisor\n            #Itera las filas\n            for k in range(n):\n                rowfactor = a[k][i]\n                #Itera las columnas\n                for l in range(n):\n                    a[k][l] = a[k][l]-(a[i][l]*rowfactor)\n     \n    #Halla la soluci\u00f3n del sistema\n    x = mv_multiplication(a,b)\n    \n    return x\n    ",
     "language": "python",
     "metadata": {},
     "outputs": [],
     "prompt_number": 43
    },
    {
     "cell_type": "heading",
     "level": 4,
     "metadata": {},
     "source": "A partir de una matriz 3x3, la siguiente funci\u00f3n genera una matriz triangular inferior y una triangular superior tal que:\n\nA = L*U"
    },
    {
     "cell_type": "code",
     "collapsed": false,
     "input": "def LUdecomposition(A):\n    L = [[0 for x in range(n)] for x in range(n)]\n    U = [[0 for x in range(n)] for x in range(n)]\n    \n    for i in range(n):\n        L[i][i] = 1 #Llena la diagonal con 1\n        for j in range(i+1,n):\n            L[j][i] = A[j][i]/A[i][i] #Crea la triangular inferior \n            for k in range(i+1,n):\n                A[j][k] = A[j][k] - (L[j][i]*A[i][k])\n        for l in range (i,n):\n            U[i][l] = A[i][l] #Crea la triangular superior\n            \n    return L, U",
     "language": "python",
     "metadata": {},
     "outputs": [],
     "prompt_number": 44
    },
    {
     "cell_type": "heading",
     "level": 4,
     "metadata": {},
     "source": "La siguiente funci\u00f3n genera los parametros del modelo, en este caso, la f\u00edsica detr\u00e1s del problema se reduce a la ecuaci\u00f3n: y = yo + Vot + (1/2)g*t^2\nG corresponde a una matriz 38x3, donde cada fila corresponde a: 1, t,(1/2)t^2. Debido a las dimensiones de esta matriz, es necesario hallar la transpuesta y multiplicarlas para obtener una matriz 3x3 que se pueda convertir a LU. Adicionalmente, contamos con el vector b que contiene los datos de posici\u00f3n. "
    },
    {
     "cell_type": "code",
     "collapsed": false,
     "input": "\ndef creatingdata(file):\n    \n    yposition = []\n    t = []\n            \n    #Loop para guardar el tiempo y la posici\u00f3n en y\n    for line in file:\n        columns = line.split(\" \") #Separa por columnas cada archivo\n        for k in range (len(columns)):\n            if (k == 1):\n                yposition.append(float(columns[1])) #Guarda la segunda columna en una lista \n            elif (k == 0):\n                t.append(columns[0]) #Guarda la primera columna\n            \n    G = [[0 for x in range(n)] for x in range(m)]\n    #Loop para llenar la matriz G, itera las filas\n    for i in range (m):\n        \n        G[i][0] = 1\n        G[i][1] = float(t[i])\n        G[i][2] = (0.5*((float(t[i]))**2))\n             \n    G_t = matrix_transpose(G)\n    A = matrix_multiplication(G_t,G)\n   \n    #Vector b, contiene las posiciones en y\n    b = [0 for x in range(m)]\n    #Loop para llenar el vector b \n    for l in range (m):\n        b[l] = yposition[l]\n    #Nuevo vector b\n    nb = mv_multiplication(G_t,b)\n    \n    return (A, nb)",
     "language": "python",
     "metadata": {},
     "outputs": [],
     "prompt_number": 45
    },
    {
     "cell_type": "heading",
     "level": 4,
     "metadata": {},
     "source": "Una vez establecido el sistema Ax = nb, se realiza m\u00ednimos cuadrados para obterner el valor de x. Si A = LU, Ux = z --> Lz = nb, al hallar el valor de z se puede devolver y hallar x del sistema Ux = z. "
    },
    {
     "cell_type": "code",
     "collapsed": false,
     "input": "def solving(file):\n    #Obtengo la matriz A de 3x3 y el vector 3x1\n    A, nb = creatingdata(file)\n    \n    #Obtengo L y U, tal que L*U = A\n    L, U = LUdecomposition(A)\n    \n    #Encuentro la soluci\u00f3n para Lz=nb\n    z = solving(L, nb)\n    \n    #Encuentro la soluci\u00f3n de Ux=z\n    x = solving(U, z)\n    \n    return x",
     "language": "python",
     "metadata": {},
     "outputs": [],
     "prompt_number": 46
    },
    {
     "cell_type": "heading",
     "level": 4,
     "metadata": {},
     "source": "Debido a que los datos de latitud y longitud se encuentran en el nombre de cada archivo, se realiza lo siguiente para extraer esta informaci\u00f3n."
    },
    {
     "cell_type": "code",
     "collapsed": false,
     "input": "lfiles = os.listdir('Brahe-3141-f/')\nllength = len(lfiles)\n\ntheta = []\nphi = []\n\nfor i in range (llength):\n    fname = lfiles[i]\n    #Encuentra la posicion del string donde estan estos caracteres\n    neartheta = fname.find('ta')\n    nearphi = fname.find('hi')\n    \n    #El angulo theta siempre estara desde 2 + la posicion de  ta hasta 5 mas adelante\n    theta = float(fname[neartheta+2:neartheta+5])\n    #El angulo phi esta desde la posicion de hi + 2 hasta hi + 5\n    phi = float(fname[nearphi+2:nearphi+5])\n    \n    theta.append(theta[i])\n    phi.append(phi[i])",
     "language": "python",
     "metadata": {},
     "outputs": [
      {
       "ename": "ValueError",
       "evalue": "could not convert string to float: _81",
       "output_type": "pyerr",
       "traceback": [
        "\u001b[0;31m---------------------------------------------------------------------------\u001b[0m\n\u001b[0;31mValueError\u001b[0m                                Traceback (most recent call last)",
        "\u001b[0;32m<ipython-input-47-a61c8dd15896>\u001b[0m in \u001b[0;36m<module>\u001b[0;34m()\u001b[0m\n\u001b[1;32m     12\u001b[0m \u001b[0;34m\u001b[0m\u001b[0m\n\u001b[1;32m     13\u001b[0m     \u001b[0;31m#El angulo theta siempre estara desde 2 + la posicion de  ta hasta 5 mas adelante\u001b[0m\u001b[0;34m\u001b[0m\u001b[0;34m\u001b[0m\u001b[0m\n\u001b[0;32m---> 14\u001b[0;31m     \u001b[0mtheta\u001b[0m \u001b[0;34m=\u001b[0m \u001b[0mfloat\u001b[0m\u001b[0;34m(\u001b[0m\u001b[0mfname\u001b[0m\u001b[0;34m[\u001b[0m\u001b[0mneartheta\u001b[0m\u001b[0;34m+\u001b[0m\u001b[0;36m2\u001b[0m\u001b[0;34m:\u001b[0m\u001b[0mneartheta\u001b[0m\u001b[0;34m+\u001b[0m\u001b[0;36m5\u001b[0m\u001b[0;34m]\u001b[0m\u001b[0;34m)\u001b[0m\u001b[0;34m\u001b[0m\u001b[0m\n\u001b[0m\u001b[1;32m     15\u001b[0m     \u001b[0;31m#El angulo phi esta desde la posicion de hi + 2 hasta hi + 5\u001b[0m\u001b[0;34m\u001b[0m\u001b[0;34m\u001b[0m\u001b[0m\n\u001b[1;32m     16\u001b[0m     \u001b[0mphi\u001b[0m \u001b[0;34m=\u001b[0m \u001b[0mfloat\u001b[0m\u001b[0;34m(\u001b[0m\u001b[0mfname\u001b[0m\u001b[0;34m[\u001b[0m\u001b[0mnearphi\u001b[0m\u001b[0;34m+\u001b[0m\u001b[0;36m2\u001b[0m\u001b[0;34m:\u001b[0m\u001b[0mnearphi\u001b[0m\u001b[0;34m+\u001b[0m\u001b[0;36m5\u001b[0m\u001b[0;34m]\u001b[0m\u001b[0;34m)\u001b[0m\u001b[0;34m\u001b[0m\u001b[0m\n",
        "\u001b[0;31mValueError\u001b[0m: could not convert string to float: _81"
       ]
      }
     ],
     "prompt_number": 47
    },
    {
     "cell_type": "heading",
     "level": 4,
     "metadata": {},
     "source": "A continuaci\u00f3n, se genera un archivo .txt con latitud, longitud, posici\u00f3n final en y, velocidad inicial y gravedad. "
    },
    {
     "cell_type": "code",
     "collapsed": false,
     "input": "yf = []\nvo = []\ngo = []\n\nfor i in range (llength):\n    fname = lfiles[i] #Guarda el nombre del archivo de la lista\n    file = open('Brahe-3141-f/'+fname, 'r')\n    \n    x = solving(file)\n    yf.append(x[0])\n    vo.append(x[1])\n    go.append(x[2])\n\nnewfile = open('results.txt','w')\nfor j in range(len(yf)):\n    newfile.write(''.join(str(theta[j]), str(phi[j]), '', str(yf[j]), '', str(vo[j]), '', str(go[j]), '\\n'))",
     "language": "python",
     "metadata": {},
     "outputs": [
      {
       "ename": "TypeError",
       "evalue": "'float' object is not iterable",
       "output_type": "pyerr",
       "traceback": [
        "\u001b[0;31m---------------------------------------------------------------------------\u001b[0m\n\u001b[0;31mTypeError\u001b[0m                                 Traceback (most recent call last)",
        "\u001b[0;32m<ipython-input-48-9bcb5e4bf2bc>\u001b[0m in \u001b[0;36m<module>\u001b[0;34m()\u001b[0m\n\u001b[1;32m      7\u001b[0m     \u001b[0mfile\u001b[0m \u001b[0;34m=\u001b[0m \u001b[0mopen\u001b[0m\u001b[0;34m(\u001b[0m\u001b[0;34m'Brahe-3141-f/'\u001b[0m\u001b[0;34m+\u001b[0m\u001b[0mfname\u001b[0m\u001b[0;34m,\u001b[0m \u001b[0;34m'r'\u001b[0m\u001b[0;34m)\u001b[0m\u001b[0;34m\u001b[0m\u001b[0m\n\u001b[1;32m      8\u001b[0m \u001b[0;34m\u001b[0m\u001b[0m\n\u001b[0;32m----> 9\u001b[0;31m     \u001b[0mx\u001b[0m \u001b[0;34m=\u001b[0m \u001b[0msolving\u001b[0m\u001b[0;34m(\u001b[0m\u001b[0mfile\u001b[0m\u001b[0;34m)\u001b[0m\u001b[0;34m\u001b[0m\u001b[0m\n\u001b[0m\u001b[1;32m     10\u001b[0m     \u001b[0myf\u001b[0m\u001b[0;34m.\u001b[0m\u001b[0mappend\u001b[0m\u001b[0;34m(\u001b[0m\u001b[0mx\u001b[0m\u001b[0;34m[\u001b[0m\u001b[0;36m0\u001b[0m\u001b[0;34m]\u001b[0m\u001b[0;34m)\u001b[0m\u001b[0;34m\u001b[0m\u001b[0m\n\u001b[1;32m     11\u001b[0m     \u001b[0mvo\u001b[0m\u001b[0;34m.\u001b[0m\u001b[0mappend\u001b[0m\u001b[0;34m(\u001b[0m\u001b[0mx\u001b[0m\u001b[0;34m[\u001b[0m\u001b[0;36m1\u001b[0m\u001b[0;34m]\u001b[0m\u001b[0;34m)\u001b[0m\u001b[0;34m\u001b[0m\u001b[0m\n",
        "\u001b[0;32m<ipython-input-46-a2e3bf8a159e>\u001b[0m in \u001b[0;36msolving\u001b[0;34m(file)\u001b[0m\n\u001b[1;32m      1\u001b[0m \u001b[0;32mdef\u001b[0m \u001b[0msolving\u001b[0m\u001b[0;34m(\u001b[0m\u001b[0mfile\u001b[0m\u001b[0;34m)\u001b[0m\u001b[0;34m:\u001b[0m\u001b[0;34m\u001b[0m\u001b[0m\n\u001b[1;32m      2\u001b[0m     \u001b[0;31m#Obtengo la matriz A de 3x3 y el vector 3x1\u001b[0m\u001b[0;34m\u001b[0m\u001b[0;34m\u001b[0m\u001b[0m\n\u001b[0;32m----> 3\u001b[0;31m     \u001b[0mA\u001b[0m\u001b[0;34m,\u001b[0m \u001b[0mnb\u001b[0m \u001b[0;34m=\u001b[0m \u001b[0mcreatingdata\u001b[0m\u001b[0;34m(\u001b[0m\u001b[0mfile\u001b[0m\u001b[0;34m)\u001b[0m\u001b[0;34m\u001b[0m\u001b[0m\n\u001b[0m\u001b[1;32m      4\u001b[0m \u001b[0;34m\u001b[0m\u001b[0m\n\u001b[1;32m      5\u001b[0m     \u001b[0;31m#Obtengo L y U, tal que L*U = A\u001b[0m\u001b[0;34m\u001b[0m\u001b[0;34m\u001b[0m\u001b[0m\n",
        "\u001b[0;32m<ipython-input-45-0fb9d163655b>\u001b[0m in \u001b[0;36mcreatingdata\u001b[0;34m(file)\u001b[0m\n\u001b[1;32m     31\u001b[0m         \u001b[0mb\u001b[0m\u001b[0;34m[\u001b[0m\u001b[0ml\u001b[0m\u001b[0;34m]\u001b[0m \u001b[0;34m=\u001b[0m \u001b[0myposition\u001b[0m\u001b[0;34m[\u001b[0m\u001b[0ml\u001b[0m\u001b[0;34m]\u001b[0m\u001b[0;34m\u001b[0m\u001b[0m\n\u001b[1;32m     32\u001b[0m     \u001b[0;31m#Nuevo vector b\u001b[0m\u001b[0;34m\u001b[0m\u001b[0;34m\u001b[0m\u001b[0m\n\u001b[0;32m---> 33\u001b[0;31m     \u001b[0mnb\u001b[0m \u001b[0;34m=\u001b[0m \u001b[0mmv_multiplication\u001b[0m\u001b[0;34m(\u001b[0m\u001b[0mG_t\u001b[0m\u001b[0;34m,\u001b[0m\u001b[0mb\u001b[0m\u001b[0;34m)\u001b[0m\u001b[0;34m\u001b[0m\u001b[0m\n\u001b[0m\u001b[1;32m     34\u001b[0m \u001b[0;34m\u001b[0m\u001b[0m\n\u001b[1;32m     35\u001b[0m     \u001b[0;32mreturn\u001b[0m \u001b[0;34m(\u001b[0m\u001b[0mA\u001b[0m\u001b[0;34m,\u001b[0m \u001b[0mnb\u001b[0m\u001b[0;34m)\u001b[0m\u001b[0;34m\u001b[0m\u001b[0m\n",
        "\u001b[0;32m<ipython-input-41-f5e825adc268>\u001b[0m in \u001b[0;36mmv_multiplication\u001b[0;34m(matrix_a, vector_b)\u001b[0m\n\u001b[1;32m      6\u001b[0m         \u001b[0;31m#Itera en las filas del vector\u001b[0m\u001b[0;34m\u001b[0m\u001b[0;34m\u001b[0m\u001b[0m\n\u001b[1;32m      7\u001b[0m         \u001b[0;32mfor\u001b[0m \u001b[0mj\u001b[0m \u001b[0;32min\u001b[0m \u001b[0mrange\u001b[0m\u001b[0;34m(\u001b[0m\u001b[0mlen\u001b[0m\u001b[0;34m(\u001b[0m\u001b[0mvector_b\u001b[0m\u001b[0;34m)\u001b[0m\u001b[0;34m)\u001b[0m\u001b[0;34m:\u001b[0m\u001b[0;34m\u001b[0m\u001b[0m\n\u001b[0;32m----> 8\u001b[0;31m             \u001b[0mx\u001b[0m\u001b[0;34m[\u001b[0m\u001b[0mi\u001b[0m\u001b[0;34m]\u001b[0m \u001b[0;34m+=\u001b[0m \u001b[0mmatrix_a\u001b[0m\u001b[0;34m[\u001b[0m\u001b[0mi\u001b[0m\u001b[0;34m]\u001b[0m\u001b[0;34m[\u001b[0m\u001b[0mj\u001b[0m\u001b[0;34m]\u001b[0m\u001b[0;34m*\u001b[0m\u001b[0mvector_b\u001b[0m\u001b[0;34m[\u001b[0m\u001b[0mj\u001b[0m\u001b[0;34m]\u001b[0m\u001b[0;34m\u001b[0m\u001b[0m\n\u001b[0m\u001b[1;32m      9\u001b[0m     \u001b[0;32mreturn\u001b[0m \u001b[0mx\u001b[0m\u001b[0;34m\u001b[0m\u001b[0m\n",
        "\u001b[0;31mTypeError\u001b[0m: 'float' object is not iterable"
       ]
      }
     ],
     "prompt_number": 48
    },
    {
     "cell_type": "heading",
     "level": 4,
     "metadata": {},
     "source": "Se crea la gr\u00e1fica de Gravedad vs. \u00e1ngulo polar theta"
    },
    {
     "cell_type": "code",
     "collapsed": false,
     "input": "plt.scatter(theta,go)\nplt.xlabel('theta')\nplt.ylabel('Gravedad')\nplt.tittle('Gravedad vs. theta')",
     "language": "python",
     "metadata": {},
     "outputs": [
      {
       "ename": "AttributeError",
       "evalue": "'module' object has no attribute 'tittle'",
       "output_type": "pyerr",
       "traceback": [
        "\u001b[0;31m---------------------------------------------------------------------------\u001b[0m\n\u001b[0;31mAttributeError\u001b[0m                            Traceback (most recent call last)",
        "\u001b[0;32m<ipython-input-49-735072511179>\u001b[0m in \u001b[0;36m<module>\u001b[0;34m()\u001b[0m\n\u001b[1;32m      2\u001b[0m \u001b[0mplt\u001b[0m\u001b[0;34m.\u001b[0m\u001b[0mxlabel\u001b[0m\u001b[0;34m(\u001b[0m\u001b[0;34m'theta'\u001b[0m\u001b[0;34m)\u001b[0m\u001b[0;34m\u001b[0m\u001b[0m\n\u001b[1;32m      3\u001b[0m \u001b[0mplt\u001b[0m\u001b[0;34m.\u001b[0m\u001b[0mylabel\u001b[0m\u001b[0;34m(\u001b[0m\u001b[0;34m'Gravedad'\u001b[0m\u001b[0;34m)\u001b[0m\u001b[0;34m\u001b[0m\u001b[0m\n\u001b[0;32m----> 4\u001b[0;31m \u001b[0mplt\u001b[0m\u001b[0;34m.\u001b[0m\u001b[0mtittle\u001b[0m\u001b[0;34m(\u001b[0m\u001b[0;34m'Gravedad vs. theta'\u001b[0m\u001b[0;34m)\u001b[0m\u001b[0;34m\u001b[0m\u001b[0m\n\u001b[0m",
        "\u001b[0;31mAttributeError\u001b[0m: 'module' object has no attribute 'tittle'"
       ]
      },
      {
       "metadata": {},
       "output_type": "display_data",
       "png": "[encoded data removed]",
       "text": "<matplotlib.figure.Figure at 0x7f9520f8db90>"
      }
     ],
     "prompt_number": 49
    },
    {
     "cell_type": "code",
     "collapsed": false,
     "input": "",
     "language": "python",
     "metadata": {},
     "outputs": [],
     "prompt_number": 37
    },
    {
     "cell_type": "code",
     "collapsed": false,
     "input": "",
     "language": "python",
     "metadata": {},
     "outputs": []
    }
   ],
   "metadata": {}
  }
 ]
}